{
 "cells": [
  {
   "cell_type": "markdown",
   "metadata": {},
   "source": [
    "# LIXO \n",
    "---"
   ]
  },
  {
   "cell_type": "markdown",
   "metadata": {},
   "source": [
    "OCUPANTES"
   ]
  },
  {
   "cell_type": "code",
   "execution_count": null,
   "metadata": {
    "vscode": {
     "languageId": "plaintext"
    }
   },
   "outputs": [],
   "source": [
    "async def run(self):\n",
    "            '''\n",
    "            se saida-> vai para saida\n",
    "            se não random\n",
    "            '''\n",
    "\n",
    "            if self.clossest_exit()!= -1:\n",
    "                EvacuationUI.update_agent_position(self.agent.name,self.clossest_exit())\n",
    "\n",
    "            if self.agent.exits[\"Exit 1\"] == 'closed':\n",
    "                print(f\"{self.agent.name} found Exit 1 clsoed, rerouting to another exit...\")\n",
    "\n",
    "            else:\n",
    "                print(f\"{self.agent.name} is heading to Exit 1\")\n",
    "\n",
    "            if self.agent.elevator == 'off':\n",
    "                print(f\"{self.agent.name} found the elevator off, will try to use stairs\")\n",
    "\n",
    "\n",
    "            await asyncio.sleep(2)"
   ]
  },
  {
   "cell_type": "markdown",
   "metadata": {},
   "source": [
    "---"
   ]
  },
  {
   "cell_type": "markdown",
   "metadata": {},
   "source": [
    "BUILDING_AGENT"
   ]
  },
  {
   "cell_type": "markdown",
   "metadata": {},
   "source": [
    "----"
   ]
  },
  {
   "cell_type": "markdown",
   "metadata": {},
   "source": [
    "EMERGENCY_RESPONDER"
   ]
  },
  {
   "cell_type": "markdown",
   "metadata": {},
   "source": [
    "---"
   ]
  },
  {
   "cell_type": "markdown",
   "metadata": {},
   "source": []
  }
 ],
 "metadata": {
  "language_info": {
   "name": "python"
  }
 },
 "nbformat": 4,
 "nbformat_minor": 2
}

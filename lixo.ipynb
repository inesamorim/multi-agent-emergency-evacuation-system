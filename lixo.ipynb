{
 "cells": [
  {
   "cell_type": "markdown",
   "metadata": {},
   "source": [
    "# LIXO \n",
    "---"
   ]
  },
  {
   "cell_type": "markdown",
   "metadata": {},
   "source": [
    "OCUPANTES"
   ]
  },
  {
   "cell_type": "code",
   "execution_count": null,
   "metadata": {
    "vscode": {
     "languageId": "plaintext"
    }
   },
   "outputs": [],
   "source": [
    "async def run(self):\n",
    "            '''\n",
    "            se saida-> vai para saida\n",
    "            se não random\n",
    "            '''\n",
    "\n",
    "            if self.clossest_exit()!= -1:\n",
    "                EvacuationUI.update_agent_position(self.agent.name,self.clossest_exit())\n",
    "\n",
    "            if self.agent.exits[\"Exit 1\"] == 'closed':\n",
    "                print(f\"{self.agent.name} found Exit 1 clsoed, rerouting to another exit...\")\n",
    "\n",
    "            else:\n",
    "                print(f\"{self.agent.name} is heading to Exit 1\")\n",
    "\n",
    "            if self.agent.elevator == 'off':\n",
    "                print(f\"{self.agent.name} found the elevator off, will try to use stairs\")\n",
    "\n",
    "\n",
    "            await asyncio.sleep(2)"
   ]
  },
  {
   "cell_type": "code",
   "execution_count": null,
   "metadata": {
    "vscode": {
     "languageId": "plaintext"
    }
   },
   "outputs": [],
   "source": [
    "async def clossest_exit(self):\n",
    "            \n",
    "            #get poss of ocupant based on name / name==poss na list\n",
    "            poss_exits = EvacuationUI.exits_doors()\n",
    "\n",
    "            ###ver caso não existam saídas(saida==curr_poss ou -1)-> andar aleatóriamente\n",
    "            if not poss_exits:return -1\n",
    "\n",
    "            x, y = EvacuationUI.occupants_loc[self.name] #[x, y]\n",
    "\n",
    "            #ver prioridade -> mais á frente... :)\n",
    "\n",
    "            dist = EvacuationUI.grid_size + 1\n",
    "            i = 0\n",
    "            p_dist = -1\n",
    "\n",
    "            for i in range(poss_exits):\n",
    "                x1 = poss_exits[i][0]\n",
    "                y1 = poss_exits[i][1]\n",
    "                if np.sqrt((x-x1)**2 + (y-y1)**2)<dist:\n",
    "                    dist = np.sqrt((x-x1)**2 + (y-y1)**2)\n",
    "                    p_dist = i\n",
    "\n",
    "            return poss_exits[p_dist][0], poss_exits[p_dist][1]"
   ]
  },
  {
   "cell_type": "markdown",
   "metadata": {},
   "source": [
    "        def find_path(self, target):\n",
    "            \n",
    "            \n",
    "            open_set = []\n",
    "            position = self.environment.get_occupant_loc(self.jid)\n",
    "            heapq.heappush(open_set, (0, position))  # Priority queue with (cost, position)\n",
    "            came_from = {}\n",
    "            g_score = {position: 0}\n",
    "            f_score = {position: self.heuristic(position, target)}\n",
    "\n",
    "            while open_set:\n",
    "                _, current = heapq.heappop(open_set)\n",
    "\n",
    "                # Exit reached\n",
    "                if current == target:  \n",
    "                    #o occ guarda o caminho q quer fazer \n",
    "                    self.path = self.reconstruct_path(came_from, current)\n",
    "                    return self.path\n",
    "\n",
    "\n",
    "\n",
    "                x, y = current\n",
    "                neighbors = self.astar_possible_moves(x, y) #where he can walk to(they are poss moves)\n",
    "                for nx, ny in neighbors:\n",
    "                    tentative_g_score = g_score[current] + 1\n",
    "                    if tentative_g_score < g_score.get((nx, ny), float('inf')):\n",
    "                        came_from[(nx, ny)] = current\n",
    "                        g_score[(nx, ny)] = tentative_g_score\n",
    "                        f_score[(nx, ny)] = tentative_g_score + self.heuristic((nx, ny), target)\n",
    "\n",
    "                        # Avoid duplicates in the open_set\n",
    "                        if (nx, ny) not in f_score:\n",
    "                            heapq.heappush(open_set, (f_score[(nx, ny)], (nx, ny)))\n",
    "\n",
    "            return None  # No path found\n",
    "\n",
    "        def heuristic(self, a, b):\n",
    "            \n",
    "            return np.sqrt((a[0]-b[0])**2 + (a[1]-b[1])**2)\n",
    "\n",
    "        def reconstruct_path(self, came_from, current):\n",
    "            \n",
    "            path = []\n",
    "            while current in came_from:\n",
    "                path.append(current)\n",
    "                current = came_from[current]\n",
    "            path.reverse()\n",
    "            return path\n"
   ]
  },
  {
   "cell_type": "markdown",
   "metadata": {},
   "source": [
    "---"
   ]
  },
  {
   "cell_type": "markdown",
   "metadata": {},
   "source": [
    "BUILDING_AGENT"
   ]
  },
  {
   "cell_type": "markdown",
   "metadata": {},
   "source": [
    "----"
   ]
  },
  {
   "cell_type": "markdown",
   "metadata": {},
   "source": [
    "EMERGENCY_RESPONDER"
   ]
  },
  {
   "cell_type": "markdown",
   "metadata": {},
   "source": [
    "---"
   ]
  },
  {
   "cell_type": "markdown",
   "metadata": {},
   "source": []
  }
 ],
 "metadata": {
  "language_info": {
   "name": "python"
  }
 },
 "nbformat": 4,
 "nbformat_minor": 2
}

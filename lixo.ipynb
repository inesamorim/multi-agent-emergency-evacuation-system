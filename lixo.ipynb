{
 "cells": [
  {
   "cell_type": "markdown",
   "metadata": {},
   "source": [
    "# LIXO \n",
    "---"
   ]
  },
  {
   "cell_type": "markdown",
   "metadata": {},
   "source": [
    "OCUPANTES"
   ]
  },
  {
   "cell_type": "code",
   "execution_count": null,
   "metadata": {},
   "outputs": [],
   "source": [
    "async def run(self):\n",
    "            '''\n",
    "            se saida-> vai para saida\n",
    "            se não random\n",
    "            '''\n",
    "\n",
    "            if self.clossest_exit()!= -1:\n",
    "                EvacuationUI.update_agent_position(self.agent.name,self.clossest_exit())\n",
    "\n",
    "            if self.agent.exits[\"Exit 1\"] == 'closed':\n",
    "                print(f\"{self.agent.name} found Exit 1 clsoed, rerouting to another exit...\")\n",
    "\n",
    "            else:\n",
    "                print(f\"{self.agent.name} is heading to Exit 1\")\n",
    "\n",
    "            if self.agent.elevator == 'off':\n",
    "                print(f\"{self.agent.name} found the elevator off, will try to use stairs\")\n",
    "\n",
    "\n",
    "            await asyncio.sleep(2)"
   ]
  },
  {
   "cell_type": "code",
   "execution_count": null,
   "metadata": {},
   "outputs": [],
   "source": [
    "async def clossest_exit(self):\n",
    "            \n",
    "            #get poss of ocupant based on name / name==poss na list\n",
    "            poss_exits = EvacuationUI.exits_doors()\n",
    "\n",
    "            ###ver caso não existam saídas(saida==curr_poss ou -1)-> andar aleatóriamente\n",
    "            if not poss_exits:return -1\n",
    "\n",
    "            x, y = EvacuationUI.occupants_loc[self.name] #[x, y]\n",
    "\n",
    "            #ver prioridade -> mais á frente... :)\n",
    "\n",
    "            dist = EvacuationUI.grid_size + 1\n",
    "            i = 0\n",
    "            p_dist = -1\n",
    "\n",
    "            for i in range(poss_exits):\n",
    "                x1 = poss_exits[i][0]\n",
    "                y1 = poss_exits[i][1]\n",
    "                if np.sqrt((x-x1)**2 + (y-y1)**2)<dist:\n",
    "                    dist = np.sqrt((x-x1)**2 + (y-y1)**2)\n",
    "                    p_dist = i\n",
    "\n",
    "            return poss_exits[p_dist][0], poss_exits[p_dist][1]"
   ]
  },
  {
   "cell_type": "markdown",
   "metadata": {},
   "source": [
    "        def find_path(self, target):\n",
    "            \n",
    "            \n",
    "            open_set = []\n",
    "            position = self.environment.get_occupant_loc(self.jid)\n",
    "            heapq.heappush(open_set, (0, position))  # Priority queue with (cost, position)\n",
    "            came_from = {}\n",
    "            g_score = {position: 0}\n",
    "            f_score = {position: self.heuristic(position, target)}\n",
    "\n",
    "            while open_set:\n",
    "                _, current = heapq.heappop(open_set)\n",
    "\n",
    "                # Exit reached\n",
    "                if current == target:  \n",
    "                    #o occ guarda o caminho q quer fazer \n",
    "                    self.path = self.reconstruct_path(came_from, current)\n",
    "                    return self.path\n",
    "\n",
    "\n",
    "\n",
    "                x, y = current\n",
    "                neighbors = self.astar_possible_moves(x, y) #where he can walk to(they are poss moves)\n",
    "                for nx, ny in neighbors:\n",
    "                    tentative_g_score = g_score[current] + 1\n",
    "                    if tentative_g_score < g_score.get((nx, ny), float('inf')):\n",
    "                        came_from[(nx, ny)] = current\n",
    "                        g_score[(nx, ny)] = tentative_g_score\n",
    "                        f_score[(nx, ny)] = tentative_g_score + self.heuristic((nx, ny), target)\n",
    "\n",
    "                        # Avoid duplicates in the open_set\n",
    "                        if (nx, ny) not in f_score:\n",
    "                            heapq.heappush(open_set, (f_score[(nx, ny)], (nx, ny)))\n",
    "\n",
    "            return None  # No path found\n",
    "\n",
    "        def heuristic(self, a, b):\n",
    "            \n",
    "            return np.sqrt((a[0]-b[0])**2 + (a[1]-b[1])**2)\n",
    "\n",
    "        def reconstruct_path(self, came_from, current):\n",
    "            \n",
    "            path = []\n",
    "            while current in came_from:\n",
    "                path.append(current)\n",
    "                current = came_from[current]\n",
    "            path.reverse()\n",
    "            return path\n"
   ]
  },
  {
   "cell_type": "markdown",
   "metadata": {},
   "source": [
    "    class CheckForHealthState(CyclicBehaviour):\n",
    "        async def run(self):\n",
    "            while(not self.agent.busy):\n",
    "                await asyncio.sleep(1)\n",
    "            await self.ask_health_state()\n",
    "            await asyncio.sleep(10)\n",
    "\n",
    "        async def ask_health_state(self):\n",
    "            num_occupants = self.agent.environment.num_occupants\n",
    "            for i in range(num_occupants):\n",
    "                id = f\"occupant{i}@localhost\"\n",
    "                if str(id) in self.agent.environment.occupants_loc.keys():\n",
    "                    print(f\"ER Agent {self.agent.jid} ks sending message to {id}\")\n",
    "                    msg = Message(to=f\"occupant{i}@localhost\")\n",
    "                    msg.set_metadata(\"performative\", \"informative\")\n",
    "                    msg.body = \"[ER] Please give me information on your health state\"\n",
    "\n",
    "                    await self.send(msg)\n"
   ]
  },
  {
   "cell_type": "markdown",
   "metadata": {},
   "source": [
    "    class ReceiveHealthState(CyclicBehaviour):\n",
    "        async def run(self):\n",
    "            to_help_list = []\n",
    "            while True:  # Continuously listen for messages\n",
    "                await self.receive_health_state(to_help_list)\n",
    "                #[id, healf, x, y, z]\n",
    "\n",
    "\n",
    "        async def receive_health_state(self, to_help_list):\n",
    "            '''\n",
    "            se occ tiver no pick da health, não pede ajuda, só foge\n",
    "            '''\n",
    "            msg = await self.receive(timeout=10)  # Wait for a message with a 10-second timeout\n",
    "\n",
    "            if msg:\n",
    "                # Assuming msg.body contains the message text\n",
    "                content = msg.body  # or msg.content, depending on the message library\n",
    "\n",
    "                # Split the message by semicolons to isolate sections\n",
    "                parts = content.split(\";\")\n",
    "\n",
    "                try:\n",
    "                    # Extract `id`\n",
    "                    id_part = parts[0].split(\":\")[1].strip()\n",
    "\n",
    "                    # Extract `position` (x, y, z) - splitting by `:` and `,`\n",
    "                    position_part = parts[1].split(\":\")[1].strip()\n",
    "                    x, y, z = map(int, position_part.strip(\"()\").split(\",\"))\n",
    "\n",
    "                    # Extract `health state`\n",
    "                    health_state_part = parts[2].split(\":\")[1].strip()\n",
    "                    health_state = int(health_state_part)\n",
    "\n",
    "                    # Create the array with agent data\n",
    "                    occ = [id_part, health_state, x, y, z]\n",
    "\n",
    "                    print(f\"Agent data Received by ER Agent:\\n - Id: {occ[0]};\\n - Health State: {occ[1]};\\n - Position:{occ[2],occ[3],occ[4]}\")\n",
    "                    to_help_list.append(occ)\n",
    "\n",
    "                    if health_state==1: #agent é curável\n",
    "                        cure_behaviour = self.Cure(occ, to_help_list)\n",
    "                        self.agent.add_behaviour(cure_behaviour)\n",
    "\n",
    "                except IndexError as e:\n",
    "                    print(\"Failed to parse message. Make sure the message format is correct:\", e)\n",
    "                except ValueError as e:\n",
    "                    print(\"Failed to convert data to integers. Check the data format:\", e)\n",
    "\n"
   ]
  },
  {
   "cell_type": "markdown",
   "metadata": {},
   "source": [
    "        # se ff -> o occ já foi visto por um médico(não sofre dano ao longo do tempo)\n",
    "        async def clear_path(self, vetor):\n",
    "            '''\n",
    "            se houver um problema de dimenções pequenas eles podem fazer com que ele desapareça\n",
    "            tem q ser no msm andar\n",
    "\n",
    "            a função é chamada quando se encontra fogo no caminho\n",
    "\n",
    "            recebe o vetor da direção, e vê 7 casas à frente e só apaga o fogo se houver pelo menos\n",
    "            um quadrado não em chamas(apaga enguanto passa)\n",
    "            '''\n",
    "            #vetor = [1, -1] exemplo\n",
    "            x, y, z = self.agent.environment.get_er_loc(self.agent.jid)\n",
    "            can = 1\n",
    "            while [x+can*vetor[0], y+can*vetor[1], z] in self.agent.environment.obstacles[x+can*vetor[0], y+can*vetor[1], z]:\n",
    "                can+=1\n",
    "            if can!=7:\n",
    "                self.make_wave(vetor)\n",
    "\n",
    "        async def make_wave(self, vector):\n",
    "\n",
    "            x, y, z = self.agent.environment.get_er_loc(self.agent.jid)\n",
    "\n",
    "            can = 1\n",
    "            while [x+can*vector[0], y+can*vector[1], z] in self.agent.environment.obstacles[x+can*vector[0], y+can*vector[1], z]:\n",
    "                can+=1\n",
    "                self.agent.environment.obstacles.pop(x+can*vector[0], y+can*vector[1], z)\n",
    "\n",
    "            pass\n"
   ]
  },
  {
   "cell_type": "markdown",
   "metadata": {},
   "source": [
    "---"
   ]
  },
  {
   "cell_type": "markdown",
   "metadata": {},
   "source": [
    "BUILDING_AGENT"
   ]
  },
  {
   "cell_type": "markdown",
   "metadata": {},
   "source": [
    "----"
   ]
  },
  {
   "cell_type": "markdown",
   "metadata": {},
   "source": [
    "EMERGENCY_RESPONDER"
   ]
  },
  {
   "cell_type": "markdown",
   "metadata": {},
   "source": [
    "---"
   ]
  },
  {
   "cell_type": "markdown",
   "metadata": {},
   "source": [
    "GRAFICOS\n",
    "------\n",
    "\n",
    "----------------\n"
   ]
  },
  {
   "cell_type": "code",
   "execution_count": 44,
   "metadata": {},
   "outputs": [],
   "source": [
    "import matplotlib.pyplot as plt\n",
    "\n",
    "def plot_graph(x, y, title=\"Graph\", xlabel=\"X-axis\", ylabel=\"Y-axis\"):\n",
    "    \"\"\"\n",
    "    Plots a graph given arrays for x and y, with most elements styled in baby pink \n",
    "    and the legend labels in mint green.\n",
    "\n",
    "    Args:\n",
    "        x (list or array-like): Array of x-coordinates.\n",
    "        y (list or array-like): Array of y-coordinates.\n",
    "        title (str): Title of the graph.\n",
    "        xlabel (str): Label for the x-axis.\n",
    "        ylabel (str): Label for the y-axis.\n",
    "    \n",
    "    Returns:\n",
    "        None\n",
    "    \"\"\"\n",
    "    if len(x) != len(y):\n",
    "        raise ValueError(\"x and y must have the same length.\")\n",
    "    \n",
    "  \n",
    "    verde_escuro = \"#0e4714\"\n",
    "    amarelo = \"#f6bc2d\"\n",
    "    beje = \"#e9eae0\"\n",
    "\n",
    "    plt.figure(figsize=(7, 5),  facecolor=beje)  # Set the figure size\n",
    "    plt.plot(x, y, marker=\"o\", linestyle=\"-\", color=amarelo, label=\"Data\")  # Baby pink line\n",
    "    \n",
    "    # Title and labels in baby pink\n",
    "    plt.title(title, fontsize=16, color=amarelo)\n",
    "    plt.xlabel(xlabel, fontsize=14, color=verde_escuro)\n",
    "    plt.ylabel(ylabel, fontsize=14, color=verde_escuro)\n",
    "    \n",
    "    # Customize the tick parameters to baby pink\n",
    "    plt.tick_params(axis='both', colors=verde_escuro, labelsize=12)\n",
    "    \n",
    "    # Customize the spines (axes borders) to baby pink\n",
    "    ax = plt.gca()  # Get current axes\n",
    "    ax.set_facecolor(beje)\n",
    "    ax.spines['top'].set_color(verde_escuro)\n",
    "    ax.spines['bottom'].set_color(verde_escuro)\n",
    "    ax.spines['left'].set_color(verde_escuro)\n",
    "    ax.spines['right'].set_color(verde_escuro)\n",
    "    \n",
    "    # Customize grid lines to baby pink\n",
    "    plt.grid(True, color=verde_escuro, linestyle='--', linewidth=0.5)\n",
    "\n",
    "    # Customizing the legend\n",
    "    legend = plt.legend(fontsize=12)  # Show legend\n",
    "    for text in legend.get_texts():  # Change text color in legend\n",
    "        text.set_color(verde_escuro)\n",
    "\n",
    "    plt.show()  # Display the graph\n"
   ]
  },
  {
   "cell_type": "code",
   "execution_count": 45,
   "metadata": {},
   "outputs": [
    {
     "data": {
      "image/png": "[encoded data removed]",
      "text/plain": [
       "<Figure size 700x500 with 1 Axes>"
      ]
     },
     "metadata": {},
     "output_type": "display_data"
    }
   ],
   "source": [
    "'''\n",
    "altering nº of occ\n",
    "    vab independ(x) nº of occ\n",
    "    vab depend(y)   time of evacuation\n",
    "\n",
    "    vab depend(y)   ratio of dead\n",
    "'''\n",
    "x =  [10, 20, 50, 100, 200, 500]\n",
    "y1 = [25, 34, 40, 80, 95, 134]\n",
    "y2 = []\n",
    "\n",
    "plot_graph(x, y1,title=\"Time\", xlabel=\"total nº of occ\", ylabel=\"time of last evacuated\")"
   ]
  },
  {
   "cell_type": "code",
   "execution_count": null,
   "metadata": {},
   "outputs": [],
   "source": []
  }
 ],
 "metadata": {
  "kernelspec": {
   "display_name": "base2",
   "language": "python",
   "name": "python3"
  },
  "language_info": {
   "codemirror_mode": {
    "name": "ipython",
    "version": 3
   },
   "file_extension": ".py",
   "mimetype": "text/x-python",
   "name": "python",
   "nbconvert_exporter": "python",
   "pygments_lexer": "ipython3",
   "version": "3.12.3"
  }
 },
 "nbformat": 4,
 "nbformat_minor": 2
}
